{
  "nbformat": 4,
  "nbformat_minor": 0,
  "metadata": {
    "colab": {
      "name": "Helper.ipynb",
      "provenance": [],
      "collapsed_sections": []
    },
    "kernelspec": {
      "name": "python3",
      "display_name": "Python 3"
    }
  },
  "cells": [
    {
      "cell_type": "code",
      "metadata": {
        "id": "NpwaP5p2QIk0"
      },
      "source": [
        "# 라이브러리 import\n",
        "import requests\n",
        "from bs4 import BeautifulSoup\n",
        "import re"
      ],
      "execution_count": 1,
      "outputs": []
    },
    {
      "cell_type": "code",
      "metadata": {
        "id": "xPHJt6XCpDVs"
      },
      "source": [
        "# Request Header 정돈하기\n",
        "text = \"\"\":authority: search.naver.com\n",
        ":method: GET\n",
        ":path: /search.naver?where=nexearch&sm=tab_etc&mra=bjJF&pkid=422&os=8083026&query=%EC%9D%B8%EA%B5%AC%EC%88%98\n",
        ":scheme: https\n",
        "accept: text/html,application/xhtml+xml,application/xml;q=0.9,image/avif,image/webp,image/apng,*/*;q=0.8,application/signed-exchange;v=b3;q=0.9\n",
        "accept-encoding: gzip, deflate, br\n",
        "accept-language: ko,en-US;q=0.9,en;q=0.8\n",
        "cache-control: no-cache\n",
        "dnt: 1\n",
        "pragma: no-cache\n",
        "sec-fetch-dest: document\n",
        "sec-fetch-mode: navigate\n",
        "sec-fetch-site: none\n",
        "sec-fetch-user: ?1\n",
        "upgrade-insecure-requests: 1\n",
        "user-agent: Mozilla/5.0 (Windows NT 10.0; Win64; x64) AppleWebKit/537.36 (KHTML, like Gecko) Chrome/85.0.4183.121 Safari/537.36\"\"\""
      ],
      "execution_count": 2,
      "outputs": []
    },
    {
      "cell_type": "code",
      "metadata": {
        "id": "d9pEfY-dpP0t",
        "outputId": "2f8c0f93-7cb2-4ac4-b42e-d4ebcb8a82e7",
        "colab": {
          "base_uri": "https://localhost:8080/"
        }
      },
      "source": [
        "# Request Header 정돈하기 (2)\n",
        "parsed_headers = {}\n",
        "for line in text.split('\\n'):\n",
        "  if line.startswith(\":\"):\n",
        "    temp_header = line[1:].split(\":\", maxsplit=1)\n",
        "    parsed_headers[\":\" + temp_header[0]] = temp_header[1].strip()\n",
        "  else:\n",
        "    temp_header = line.split(\":\", maxsplit=1)\n",
        "    parsed_headers[temp_header[0]] = temp_header[1].strip()\n",
        "parsed_headers"
      ],
      "execution_count": 3,
      "outputs": [
        {
          "output_type": "execute_result",
          "data": {
            "text/plain": [
              "{':authority': 'search.naver.com',\n",
              " ':method': 'GET',\n",
              " ':path': '/search.naver?where=nexearch&sm=tab_etc&mra=bjJF&pkid=422&os=8083026&query=%EC%9D%B8%EA%B5%AC%EC%88%98',\n",
              " ':scheme': 'https',\n",
              " 'accept': 'text/html,application/xhtml+xml,application/xml;q=0.9,image/avif,image/webp,image/apng,*/*;q=0.8,application/signed-exchange;v=b3;q=0.9',\n",
              " 'accept-encoding': 'gzip, deflate, br',\n",
              " 'accept-language': 'ko,en-US;q=0.9,en;q=0.8',\n",
              " 'cache-control': 'no-cache',\n",
              " 'dnt': '1',\n",
              " 'pragma': 'no-cache',\n",
              " 'sec-fetch-dest': 'document',\n",
              " 'sec-fetch-mode': 'navigate',\n",
              " 'sec-fetch-site': 'none',\n",
              " 'sec-fetch-user': '?1',\n",
              " 'upgrade-insecure-requests': '1',\n",
              " 'user-agent': 'Mozilla/5.0 (Windows NT 10.0; Win64; x64) AppleWebKit/537.36 (KHTML, like Gecko) Chrome/85.0.4183.121 Safari/537.36'}"
            ]
          },
          "metadata": {
            "tags": []
          },
          "execution_count": 3
        }
      ]
    },
    {
      "cell_type": "code",
      "metadata": {
        "id": "TrGvN3K-pVWV"
      },
      "source": [
        "# 위에서 정돈한 코드를 붙여넣어서 헤더를 만들었음\n",
        "url = 'https://search.naver.com/search.naver?where=nexearch&sm=tab_etc&mra=bjJF&pkid=422&os=8083026&query=%EC%9D%B8%EA%B5%AC%EC%88%98'\n",
        "headers = {\n",
        "    'accept': 'text/html,application/xhtml+xml,application/xml;q=0.9,image/avif,image/webp,image/apng,*/*;q=0.8,application/signed-exchange;v=b3;q=0.9',\n",
        "    'accept-encoding': 'gzip, deflate, br',\n",
        "    'accept-language': 'ko,en-US;q=0.9,en;q=0.8',\n",
        "    'cache-control': 'no-cache',\n",
        "    'dnt': '1',\n",
        "    'pragma': 'no-cache',\n",
        "    'sec-fetch-dest': 'document',\n",
        "    'sec-fetch-mode': 'navigate',\n",
        "    'sec-fetch-site': 'none',\n",
        "    'sec-fetch-user': '?1',\n",
        "    'upgrade-insecure-requests': '1',\n",
        "    'user-agent': 'Mozilla/5.0 (Windows NT 10.0; Win64; x64) AppleWebKit/537.36 (KHTML, like Gecko) Chrome/85.0.4183.121 Safari/537.36'}"
      ],
      "execution_count": 4,
      "outputs": []
    },
    {
      "cell_type": "code",
      "metadata": {
        "id": "EwEktAIVP_E8"
      },
      "source": [
        "# Requests get\n",
        "res = requests.get(url, headers=headers)"
      ],
      "execution_count": 5,
      "outputs": []
    },
    {
      "cell_type": "code",
      "metadata": {
        "id": "Hv0Z2LUgQHb2"
      },
      "source": [
        "# BeautifulSoup\n",
        "soup = BeautifulSoup(res.text, 'html.parser')"
      ],
      "execution_count": 6,
      "outputs": []
    },
    {
      "cell_type": "code",
      "metadata": {
        "id": "_WOH1oclSjdT"
      },
      "source": [
        "# Script 태그를 가지고 있는 엘리먼트만 추출\n",
        "scripts = soup.find_all('script')"
      ],
      "execution_count": 7,
      "outputs": []
    },
    {
      "cell_type": "code",
      "metadata": {
        "id": "Jjty3tPLzqEM",
        "outputId": "bdc81411-a59a-408a-d2e6-42dbd067354d",
        "colab": {
          "base_uri": "https://localhost:8080/"
        }
      },
      "source": [
        "# 발견된 script가 77개나 되다보니, 원하는 script만을 가져오기 위해 이런 야매 방법을 사용하였음.\n",
        "for script in scripts:\n",
        "  if 'Billboad 지원 범위인지 확인한다' in script.text:\n",
        "    target_script = script\n",
        "    print(target_script)\n",
        "  else:\n",
        "    pass"
      ],
      "execution_count": 9,
      "outputs": [
        {
          "output_type": "stream",
          "text": [
            "<script> (function($) { /** * Billboad 지원 범위인지 확인한다. * @static * @returns {boolean} 지원 여부 * @example * BillboardHelper.isSupport(); */ var isSupport = function () { var isSupportSVG = !!document.createElementNS && !!document.createElementNS(\"http://www.w3.org/2000/svg\", \"svg\").createSVGRect; var agent = eg.agent(); var browserInfo = agent.browser; var isSupport; if (isSupportSVG) { if (browserInfo.name === \"ie\") { isSupport = !(versionCompare(browserInfo.version, \"9\") === -1); } else { isSupport = true; } } else { isSupport = false; } return isSupport; }; /** * 버전을 비교한다 * @static * @param {Stirng} target 비교하고자 하는 대상값 * @param {Stirng} reference 기준값 * @returns {Number} 1: 기준값 보다 크다, -1: 기준값 보다 작다, 0: 기준값과 동일하다 * @example * BillboardHelper.versionCompare(eg.agent().os.version, \"4.1.2\"); */ var versionCompare = function (target, reference) { if (typeof target + typeof reference !== \"stringstring\") { return false; } var a = target.split(\".\"); var b = reference.split(\".\"); var len = Math.max(a.length, b.length); var i = 0; for (; i < len; i++) { if ((a[i] && !b[i] && parseInt(a[i], 10) > 0) || (parseInt(a[i], 10) > parseInt(b[i], 10))) { return 1; } else if ((b[i] && !a[i] && parseInt(b[i], 10) > 0) || (parseInt(a[i], 10) < parseInt(b[i], 10))) { return -1; } } return 0; }; var jsFileURL; var jsLoadCallback; if (isSupport()) { jsFileURL = \"https://ssl.pstatic.net/sstatic/au/pc/economicStatistics/nhn.search.economicStatistics.Controller_200319.js\"; jsLoadCallback = function () { new nhn.search.economicStatistics.Controller($(\"._cs_economy_chart\"), { focusImagePath: \"https://ssl.pstatic.net/sstatic/keypage/outside/scui/economy_chart/im/img_\", chart: [ { data: { types: { bar: \"bar\", line1: \"line\" }, axes: { bar: \"y\", line1: \"y2\" }, columns: [ [\"x\", \"2011\",\"2012\",\"2013\",\"2014\",\"2015\",\"2016\",\"2017\",\"2018\",\"2019\",\"2020\"] ,[\"line1\", 0.77,0.53,0.46,0.63,0.53,0.40,0.28,0.48,0.20,0.14] ,[\"bar\", 49936638,50199853,50428893,50746659,51014947,51217803,51361911,51606633,51709098,51780579] ] } , axis: { y: { label: \"만명\", }, y2: { show: true, label: \"%\", } } , tooltip: { format: { name: function(name) { var names = { \"line1\": \"인구성장률\", \"bar\": \"인구수(중위추계)\" }; return names[name]; } } } , custom: { data: { labels: { precision: { \"bar\": \"\", \"line1\": \".2\" } } }, axis: { y: { unit : 10000, gap: 60, min: 49936638, max: 51780579, tick: { precision: \"\" } }, y2: { unit : 1, gap: 0.2, min: 0.14, max: 0.77, tick: { precision: \".2\" } } }, tooltip: { format : { value: { precision: { \"line1\": \".2\", \"bar\": \"\" } } } } } } , { data: { type: \"line\", columns: [ [\"x\", \"2011\",\"2012\",\"2013\",\"2014\",\"2015\",\"2016\",\"2017\",\"2018\",\"2019\",\"2020\"] ,[\"line1\", 25069867,25187380,25285319,25445077,25585894,25670949,25736793,25863502,25913295,25945737] ,[\"line2\", 24866771,25012473,25143574,25301582,25429053,25546854,25625118,25743131,25795803,25834842] ] } , axis: { y: { label:\"만명\" } } , tooltip: { format: { name: function(name) { var names = { \"line1\": \"남자\" ,\"line2\": \"여자\" }; return names[name]; } } } , custom: { data: { labels: { precision: { \"line1\" : \"\" ,\"line2\" : \"\" } ,position: { line2: \"bottom\", } } }, axis: { y: { unit : 10000, gap: 17, min: 24866771, max: 25945737, tick: { precision: \"\" } } }, tooltip: { format : { value: { precision: { \"line1\": \"\" ,\"line2\": \"\" } } } } } } ], tab: { mainTab: { scrollWidth: 400, } }, }).on({ clickTooltipClose: function (e) { }, showTooltip: function (e) { } }); }; } else { jsFileURL = \"https://ssl.pstatic.net/sstatic/au/pc/economicStatistics/nhn.search.economicStatistics.NotSupportController_0727.js\"; jsLoadCallback = function () { new nhn.search.economicStatistics.NotSupportController($(\"._cs_economy_chart\")); }; } nhn.common.load_js(jsFileURL, jsLoadCallback, true, 150); })(jQuery); </script>\n"
          ],
          "name": "stdout"
        }
      ]
    },
    {
      "cell_type": "code",
      "metadata": {
        "id": "7Z6q7Wmfzqeg"
      },
      "source": [
        "# RegEx로 값을 찾아서 grouping함\n",
        "mat = re.search('columns: \\[ \\[\\\"x\\\", (?P<year>.*?)\\] ,\\[\\\"line1\\\", (?P<line>.*?)\\] ,\\[\\\"bar\\\", (?P<population>.*?)\\]', target_script.text)"
      ],
      "execution_count": 10,
      "outputs": []
    },
    {
      "cell_type": "code",
      "metadata": {
        "id": "SSugqOCK3L0P",
        "outputId": "a2156db3-0b62-4f7b-9155-bc3a1f8d2e18",
        "colab": {
          "base_uri": "https://localhost:8080/",
          "height": 35
        }
      },
      "source": [
        "# 출력 확인\n",
        "mat.group('year')"
      ],
      "execution_count": 11,
      "outputs": [
        {
          "output_type": "execute_result",
          "data": {
            "application/vnd.google.colaboratory.intrinsic+json": {
              "type": "string"
            },
            "text/plain": [
              "'\"2011\",\"2012\",\"2013\",\"2014\",\"2015\",\"2016\",\"2017\",\"2018\",\"2019\",\"2020\"'"
            ]
          },
          "metadata": {
            "tags": []
          },
          "execution_count": 11
        }
      ]
    },
    {
      "cell_type": "code",
      "metadata": {
        "id": "pYVKi6oF3Tf3",
        "outputId": "19c5c1af-1b17-4fb9-cecf-8e7cf9483f38",
        "colab": {
          "base_uri": "https://localhost:8080/",
          "height": 35
        }
      },
      "source": [
        "# 출력 확인 (2)\n",
        "mat.group('population')"
      ],
      "execution_count": 12,
      "outputs": [
        {
          "output_type": "execute_result",
          "data": {
            "application/vnd.google.colaboratory.intrinsic+json": {
              "type": "string"
            },
            "text/plain": [
              "'49936638,50199853,50428893,50746659,51014947,51217803,51361911,51606633,51709098,51780579'"
            ]
          },
          "metadata": {
            "tags": []
          },
          "execution_count": 12
        }
      ]
    }
  ]
}